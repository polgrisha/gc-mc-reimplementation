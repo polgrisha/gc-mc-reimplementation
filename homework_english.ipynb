{
 "cells": [
  {
   "attachments": {},
   "cell_type": "markdown",
   "id": "4fb5fac0",
   "metadata": {},
   "source": [
    "## Homework 2\n",
    "\n",
    "### Gregory Polyakov M05-115a\n",
    "\n",
    "This project explores the graph-based recommendation algorithm from the paper [Graph Convolutional Matrix Completion](https://arxiv.org/pdf/1706.02263v2.pdf).\n",
    "\n",
    "#### Brief Algorithm Description\n",
    "\n",
    "A sparse matrix of user-item ratings of size $(N_u, N_v)$ is given, where $N_u$ represents the number of users and $N_v$ represents the number of items. Observed ratings range from {1, ..., r}, while unobserved ones are marked as zero. The goal is to predict the unobserved ratings based on the observed values.\n",
    "\n",
    "To achieve this, the data is represented as a graph $(\\mathcal{W}, \\mathcal{E}, \\mathcal{R})$ with nodes representing users $\\mathcal{U}$ and items $\\mathcal{V}$. $\\mathcal{U} \\cup \\mathcal{V} = \\mathcal{W}$. Each edge is represented as $(u_i, r, v_i)$, where $r \\in \\mathcal{R}$ denotes the rating.\n",
    "\n",
    "The model is a graph autoencoder consisting of:\n",
    "1. Encoder $Y = f(X, A)$, which takes the embeddings of all graph nodes $X = N \\times D$, the adjacency matrix $A$, and outputs embeddings $Y = N \\times E$.\n",
    "2. Decoder $\\hat{A} = g(Y)$, which uses the encoder embeddings to predict values in the adjacency matrix.\n",
    "\n",
    "In the paper, the adjacency matrix $A$, containing discrete ratings as weights, is represented as a one-hot matrix $A = [M_1, ..., M_r]$, where each binary matrix $M_i$ corresponds to a specific rating.\n",
    "\n",
    "The encoder is a graph convolutional network that aggregates embeddings of neighbors at each node with certain coefficients:\n",
    "\n",
    "$$\\mu_{j \\rightarrow i, r} = \\frac{1}{c_{i, j}} W_r x_{j}$$\n",
    "\n",
    "Here, $x_{j}$ represents the embedding of neighbor $j$. For each rating value, there is a corresponding weight matrix $W_r$ for convolution. $c_{i, j} = \\sqrt{N_i N_j}$ is a symmetric normalization coefficient based on the number of node neighbors.\n",
    "\n",
    "Based on my experiments, normalization is only done with respect to $\\sqrt{N_j}$.\n",
    "\n",
    "Then, the embeddings obtained after convolutions are summed for each node and a non-linearity is applied:\n",
    "\n",
    "$$h_i = \\sigma \\left( \\text{sum}(\\sum_{j \\in N_{i, 1}} \\mu_{j \\rightarrow i, 1}, ...,  \\sum_{j \\in N_{i, r}} \\mu_{j \\rightarrow i, r})\\right)$$\n",
    "\n",
    "Afterwards, but still within the encoder stage, the authors suggest applying a simple linear layer with non-linearity for each node. The weights can differ for item and user nodes:\n",
    "\n",
    "$$u_i = \\sigma(W h_i)$$\n",
    "\n",
    "As for the decoder, the authors consider a bilinear transformation with weight matrices $Q_r$. The probabilities of each rating are calculated as:\n",
    "\n",
    "$$p\\left(M_{ij} = r\\right) = \\frac{e^{u_i^T Q_r v_j}}{\\sum_{s \\in R} e^{u_i^T Q_s v_j}}$$\n",
    "\n",
    "#### Load Data\n",
    "\n",
    "To begin, we'll attempt to reproduce the paper's results using the [MovieLens 100K dataset](https://grouplens.org/datasets/movielens/100k/).\n",
    "\n",
    "#### Download Dataset"
   ]
  },
  {
   "cell_type": "code",
   "execution_count": 38,
   "id": "69205238",
   "metadata": {},
   "outputs": [],
   "source": [
    "from urllib.request import urlopen\n",
    "from io import BytesIO\n",
    "from zipfile import ZipFile\n",
    "import pandas as pd\n",
    "from sklearn.model_selection import train_test_split\n",
    "from tqdm.notebook import tqdm\n",
    "from random import sample\n",
    "import matplotlib.pyplot as plt\n",
    "from IPython import display\n",
    "\n",
    "import torch\n",
    "import numpy as np\n",
    "\n",
    "from scipy.sparse import csr_matrix\n",
    "import h5py\n",
    "\n",
    "url = 'https://files.grouplens.org/datasets/movielens/ml-100k.zip'\n",
    "request = urlopen(url)\n",
    "\n",
    "with ZipFile(BytesIO(request.read())) as zip_ref:\n",
    "    zip_ref.extractall('./')"
   ]
  },
  {
   "attachments": {},
   "cell_type": "markdown",
   "id": "baade4f0",
   "metadata": {},
   "source": [
    "#### Let's build the adjacency matrix of the graph from the data\n",
    "\n",
    "The ratings given by users to movies are in the file `u.data`."
   ]
  },
  {
   "cell_type": "code",
   "execution_count": 39,
   "id": "e9653d49",
   "metadata": {},
   "outputs": [
    {
     "data": {
      "text/html": [
       "<div>\n",
       "<style scoped>\n",
       "    .dataframe tbody tr th:only-of-type {\n",
       "        vertical-align: middle;\n",
       "    }\n",
       "\n",
       "    .dataframe tbody tr th {\n",
       "        vertical-align: top;\n",
       "    }\n",
       "\n",
       "    .dataframe thead th {\n",
       "        text-align: right;\n",
       "    }\n",
       "</style>\n",
       "<table border=\"1\" class=\"dataframe\">\n",
       "  <thead>\n",
       "    <tr style=\"text-align: right;\">\n",
       "      <th></th>\n",
       "      <th>user</th>\n",
       "      <th>item</th>\n",
       "      <th>rating</th>\n",
       "      <th>timestamp</th>\n",
       "    </tr>\n",
       "  </thead>\n",
       "  <tbody>\n",
       "    <tr>\n",
       "      <th>0</th>\n",
       "      <td>196</td>\n",
       "      <td>242</td>\n",
       "      <td>3</td>\n",
       "      <td>881250949</td>\n",
       "    </tr>\n",
       "    <tr>\n",
       "      <th>1</th>\n",
       "      <td>186</td>\n",
       "      <td>302</td>\n",
       "      <td>3</td>\n",
       "      <td>891717742</td>\n",
       "    </tr>\n",
       "    <tr>\n",
       "      <th>2</th>\n",
       "      <td>22</td>\n",
       "      <td>377</td>\n",
       "      <td>1</td>\n",
       "      <td>878887116</td>\n",
       "    </tr>\n",
       "    <tr>\n",
       "      <th>3</th>\n",
       "      <td>244</td>\n",
       "      <td>51</td>\n",
       "      <td>2</td>\n",
       "      <td>880606923</td>\n",
       "    </tr>\n",
       "    <tr>\n",
       "      <th>4</th>\n",
       "      <td>166</td>\n",
       "      <td>346</td>\n",
       "      <td>1</td>\n",
       "      <td>886397596</td>\n",
       "    </tr>\n",
       "  </tbody>\n",
       "</table>\n",
       "</div>"
      ],
      "text/plain": [
       "   user  item  rating  timestamp\n",
       "0   196   242       3  881250949\n",
       "1   186   302       3  891717742\n",
       "2    22   377       1  878887116\n",
       "3   244    51       2  880606923\n",
       "4   166   346       1  886397596"
      ]
     },
     "execution_count": 39,
     "metadata": {},
     "output_type": "execute_result"
    }
   ],
   "source": [
    "data = pd.read_csv('./ml-100k/u.data', sep='\\t', \n",
    "                   header=None, \n",
    "                   names=['user', 'item', 'rating', 'timestamp'], \n",
    "                   encoding = 'latin-1')\n",
    "data.head()"
   ]
  },
  {
   "attachments": {},
   "cell_type": "markdown",
   "id": "0bc31593",
   "metadata": {},
   "source": [
    "The information about users is contained in files `u.item` and `u.user`"
   ]
  },
  {
   "cell_type": "code",
   "execution_count": 40,
   "id": "63bb4e64",
   "metadata": {},
   "outputs": [
    {
     "name": "stdout",
     "output_type": "stream",
     "text": [
      "Number of users: 943\n",
      "Number of films: 1682\n"
     ]
    }
   ],
   "source": [
    "movie_data = pd.read_csv('./ml-100k/u.item', sep=r'|', header=None, encoding = 'latin-1')\n",
    "user_data = pd.read_csv('./ml-100k/u.user', sep=r'|', header=None, encoding = 'latin-1')\n",
    "num_users = user_data.shape[0]\n",
    "num_items = movie_data.shape[0]\n",
    "\n",
    "print(f'Number of users: {num_users}')\n",
    "print(f'Number of films: {num_items}')"
   ]
  },
  {
   "cell_type": "code",
   "execution_count": 52,
   "id": "43cba4a6",
   "metadata": {},
   "outputs": [
    {
     "data": {
      "text/html": [
       "<div>\n",
       "<style scoped>\n",
       "    .dataframe tbody tr th:only-of-type {\n",
       "        vertical-align: middle;\n",
       "    }\n",
       "\n",
       "    .dataframe tbody tr th {\n",
       "        vertical-align: top;\n",
       "    }\n",
       "\n",
       "    .dataframe thead th {\n",
       "        text-align: right;\n",
       "    }\n",
       "</style>\n",
       "<table border=\"1\" class=\"dataframe\">\n",
       "  <thead>\n",
       "    <tr style=\"text-align: right;\">\n",
       "      <th></th>\n",
       "      <th>0</th>\n",
       "      <th>1</th>\n",
       "      <th>2</th>\n",
       "      <th>3</th>\n",
       "      <th>4</th>\n",
       "      <th>5</th>\n",
       "      <th>6</th>\n",
       "      <th>7</th>\n",
       "      <th>8</th>\n",
       "      <th>9</th>\n",
       "      <th>...</th>\n",
       "      <th>14</th>\n",
       "      <th>15</th>\n",
       "      <th>16</th>\n",
       "      <th>17</th>\n",
       "      <th>18</th>\n",
       "      <th>19</th>\n",
       "      <th>20</th>\n",
       "      <th>21</th>\n",
       "      <th>22</th>\n",
       "      <th>23</th>\n",
       "    </tr>\n",
       "  </thead>\n",
       "  <tbody>\n",
       "    <tr>\n",
       "      <th>0</th>\n",
       "      <td>1</td>\n",
       "      <td>Toy Story (1995)</td>\n",
       "      <td>01-Jan-1995</td>\n",
       "      <td>NaN</td>\n",
       "      <td>http://us.imdb.com/M/title-exact?Toy%20Story%2...</td>\n",
       "      <td>0</td>\n",
       "      <td>0</td>\n",
       "      <td>0</td>\n",
       "      <td>1</td>\n",
       "      <td>1</td>\n",
       "      <td>...</td>\n",
       "      <td>0</td>\n",
       "      <td>0</td>\n",
       "      <td>0</td>\n",
       "      <td>0</td>\n",
       "      <td>0</td>\n",
       "      <td>0</td>\n",
       "      <td>0</td>\n",
       "      <td>0</td>\n",
       "      <td>0</td>\n",
       "      <td>0</td>\n",
       "    </tr>\n",
       "    <tr>\n",
       "      <th>1</th>\n",
       "      <td>2</td>\n",
       "      <td>GoldenEye (1995)</td>\n",
       "      <td>01-Jan-1995</td>\n",
       "      <td>NaN</td>\n",
       "      <td>http://us.imdb.com/M/title-exact?GoldenEye%20(...</td>\n",
       "      <td>0</td>\n",
       "      <td>1</td>\n",
       "      <td>1</td>\n",
       "      <td>0</td>\n",
       "      <td>0</td>\n",
       "      <td>...</td>\n",
       "      <td>0</td>\n",
       "      <td>0</td>\n",
       "      <td>0</td>\n",
       "      <td>0</td>\n",
       "      <td>0</td>\n",
       "      <td>0</td>\n",
       "      <td>0</td>\n",
       "      <td>1</td>\n",
       "      <td>0</td>\n",
       "      <td>0</td>\n",
       "    </tr>\n",
       "    <tr>\n",
       "      <th>2</th>\n",
       "      <td>3</td>\n",
       "      <td>Four Rooms (1995)</td>\n",
       "      <td>01-Jan-1995</td>\n",
       "      <td>NaN</td>\n",
       "      <td>http://us.imdb.com/M/title-exact?Four%20Rooms%...</td>\n",
       "      <td>0</td>\n",
       "      <td>0</td>\n",
       "      <td>0</td>\n",
       "      <td>0</td>\n",
       "      <td>0</td>\n",
       "      <td>...</td>\n",
       "      <td>0</td>\n",
       "      <td>0</td>\n",
       "      <td>0</td>\n",
       "      <td>0</td>\n",
       "      <td>0</td>\n",
       "      <td>0</td>\n",
       "      <td>0</td>\n",
       "      <td>1</td>\n",
       "      <td>0</td>\n",
       "      <td>0</td>\n",
       "    </tr>\n",
       "    <tr>\n",
       "      <th>3</th>\n",
       "      <td>4</td>\n",
       "      <td>Get Shorty (1995)</td>\n",
       "      <td>01-Jan-1995</td>\n",
       "      <td>NaN</td>\n",
       "      <td>http://us.imdb.com/M/title-exact?Get%20Shorty%...</td>\n",
       "      <td>0</td>\n",
       "      <td>1</td>\n",
       "      <td>0</td>\n",
       "      <td>0</td>\n",
       "      <td>0</td>\n",
       "      <td>...</td>\n",
       "      <td>0</td>\n",
       "      <td>0</td>\n",
       "      <td>0</td>\n",
       "      <td>0</td>\n",
       "      <td>0</td>\n",
       "      <td>0</td>\n",
       "      <td>0</td>\n",
       "      <td>0</td>\n",
       "      <td>0</td>\n",
       "      <td>0</td>\n",
       "    </tr>\n",
       "    <tr>\n",
       "      <th>4</th>\n",
       "      <td>5</td>\n",
       "      <td>Copycat (1995)</td>\n",
       "      <td>01-Jan-1995</td>\n",
       "      <td>NaN</td>\n",
       "      <td>http://us.imdb.com/M/title-exact?Copycat%20(1995)</td>\n",
       "      <td>0</td>\n",
       "      <td>0</td>\n",
       "      <td>0</td>\n",
       "      <td>0</td>\n",
       "      <td>0</td>\n",
       "      <td>...</td>\n",
       "      <td>0</td>\n",
       "      <td>0</td>\n",
       "      <td>0</td>\n",
       "      <td>0</td>\n",
       "      <td>0</td>\n",
       "      <td>0</td>\n",
       "      <td>0</td>\n",
       "      <td>1</td>\n",
       "      <td>0</td>\n",
       "      <td>0</td>\n",
       "    </tr>\n",
       "  </tbody>\n",
       "</table>\n",
       "<p>5 rows × 24 columns</p>\n",
       "</div>"
      ],
      "text/plain": [
       "   0                  1            2   3   \\\n",
       "0   1   Toy Story (1995)  01-Jan-1995 NaN   \n",
       "1   2   GoldenEye (1995)  01-Jan-1995 NaN   \n",
       "2   3  Four Rooms (1995)  01-Jan-1995 NaN   \n",
       "3   4  Get Shorty (1995)  01-Jan-1995 NaN   \n",
       "4   5     Copycat (1995)  01-Jan-1995 NaN   \n",
       "\n",
       "                                                  4   5   6   7   8   9   ...  \\\n",
       "0  http://us.imdb.com/M/title-exact?Toy%20Story%2...   0   0   0   1   1  ...   \n",
       "1  http://us.imdb.com/M/title-exact?GoldenEye%20(...   0   1   1   0   0  ...   \n",
       "2  http://us.imdb.com/M/title-exact?Four%20Rooms%...   0   0   0   0   0  ...   \n",
       "3  http://us.imdb.com/M/title-exact?Get%20Shorty%...   0   1   0   0   0  ...   \n",
       "4  http://us.imdb.com/M/title-exact?Copycat%20(1995)   0   0   0   0   0  ...   \n",
       "\n",
       "   14  15  16  17  18  19  20  21  22  23  \n",
       "0   0   0   0   0   0   0   0   0   0   0  \n",
       "1   0   0   0   0   0   0   0   1   0   0  \n",
       "2   0   0   0   0   0   0   0   1   0   0  \n",
       "3   0   0   0   0   0   0   0   0   0   0  \n",
       "4   0   0   0   0   0   0   0   1   0   0  \n",
       "\n",
       "[5 rows x 24 columns]"
      ]
     },
     "execution_count": 52,
     "metadata": {},
     "output_type": "execute_result"
    }
   ],
   "source": [
    "movie_data.head(5)"
   ]
  },
  {
   "cell_type": "code",
   "execution_count": 53,
   "id": "c7affc1e",
   "metadata": {},
   "outputs": [
    {
     "data": {
      "text/html": [
       "<div>\n",
       "<style scoped>\n",
       "    .dataframe tbody tr th:only-of-type {\n",
       "        vertical-align: middle;\n",
       "    }\n",
       "\n",
       "    .dataframe tbody tr th {\n",
       "        vertical-align: top;\n",
       "    }\n",
       "\n",
       "    .dataframe thead th {\n",
       "        text-align: right;\n",
       "    }\n",
       "</style>\n",
       "<table border=\"1\" class=\"dataframe\">\n",
       "  <thead>\n",
       "    <tr style=\"text-align: right;\">\n",
       "      <th></th>\n",
       "      <th>0</th>\n",
       "      <th>1</th>\n",
       "      <th>2</th>\n",
       "      <th>3</th>\n",
       "      <th>4</th>\n",
       "    </tr>\n",
       "  </thead>\n",
       "  <tbody>\n",
       "    <tr>\n",
       "      <th>0</th>\n",
       "      <td>1</td>\n",
       "      <td>24</td>\n",
       "      <td>M</td>\n",
       "      <td>technician</td>\n",
       "      <td>85711</td>\n",
       "    </tr>\n",
       "    <tr>\n",
       "      <th>1</th>\n",
       "      <td>2</td>\n",
       "      <td>53</td>\n",
       "      <td>F</td>\n",
       "      <td>other</td>\n",
       "      <td>94043</td>\n",
       "    </tr>\n",
       "    <tr>\n",
       "      <th>2</th>\n",
       "      <td>3</td>\n",
       "      <td>23</td>\n",
       "      <td>M</td>\n",
       "      <td>writer</td>\n",
       "      <td>32067</td>\n",
       "    </tr>\n",
       "    <tr>\n",
       "      <th>3</th>\n",
       "      <td>4</td>\n",
       "      <td>24</td>\n",
       "      <td>M</td>\n",
       "      <td>technician</td>\n",
       "      <td>43537</td>\n",
       "    </tr>\n",
       "    <tr>\n",
       "      <th>4</th>\n",
       "      <td>5</td>\n",
       "      <td>33</td>\n",
       "      <td>F</td>\n",
       "      <td>other</td>\n",
       "      <td>15213</td>\n",
       "    </tr>\n",
       "  </tbody>\n",
       "</table>\n",
       "</div>"
      ],
      "text/plain": [
       "   0   1  2           3      4\n",
       "0  1  24  M  technician  85711\n",
       "1  2  53  F       other  94043\n",
       "2  3  23  M      writer  32067\n",
       "3  4  24  M  technician  43537\n",
       "4  5  33  F       other  15213"
      ]
     },
     "execution_count": 53,
     "metadata": {},
     "output_type": "execute_result"
    }
   ],
   "source": [
    "user_data.head(5)"
   ]
  },
  {
   "cell_type": "code",
   "execution_count": 54,
   "id": "38a630c7",
   "metadata": {},
   "outputs": [],
   "source": [
    "movie_name_list = movie_data[1].values"
   ]
  },
  {
   "attachments": {},
   "cell_type": "markdown",
   "id": "5b11a8b3",
   "metadata": {},
   "source": [
    "The current dataframe contains edge list of the considering graph\n",
    "Let's split it into train and validation sets."
   ]
  },
  {
   "cell_type": "code",
   "execution_count": 41,
   "id": "e5305268",
   "metadata": {},
   "outputs": [
    {
     "name": "stdout",
     "output_type": "stream",
     "text": [
      "Number of edges in train: 80000\n",
      "Number of edges in val: 20000\n"
     ]
    }
   ],
   "source": [
    "train, val = train_test_split(data[['user', 'item', 'rating']].values, test_size=0.2, random_state=42)\n",
    "all_edges =  torch.tensor(data[['user', 'item', 'rating']].values, dtype=torch.long)\n",
    "train = torch.tensor(train, dtype=torch.long)\n",
    "val = torch.tensor(val, dtype=torch.long)\n",
    "print(f'Number of edges in train: {train.shape[0]}')\n",
    "print(f'Number of edges in val: {val.shape[0]}')"
   ]
  },
  {
   "attachments": {},
   "cell_type": "markdown",
   "id": "97e1200e",
   "metadata": {},
   "source": [
    "Let's create 5 adjacency matrices from the list of edges, where in the $i$-th matrix, element $(j, k)$ will be equal to 1 if user $j$ rated movie $k$ with rating $i$.\n"
   ]
  },
  {
   "cell_type": "code",
   "execution_count": 42,
   "id": "1dae7df1",
   "metadata": {},
   "outputs": [],
   "source": [
    "def make_adj_matrix(num_users, num_items, edges_list, num_classes=5):\n",
    "    adj_matrix = torch.zeros(num_users, num_items, dtype=torch.long)\n",
    "    adj_matrix[edges_list[:, 0]-1, edges_list[:, 1]-1] = edges_list[:, 2]\n",
    "    \n",
    "    adj_matrices_class = []\n",
    "    for cl in range(1, num_classes+1):\n",
    "        adj_matrix_class = torch.zeros(num_users, num_items)\n",
    "        adj_matrix_class[adj_matrix == cl] = 1\n",
    "        adj_matrices_class.append(adj_matrix_class)\n",
    "    return torch.stack(adj_matrices_class, 0)"
   ]
  },
  {
   "cell_type": "code",
   "execution_count": 43,
   "id": "96555f56",
   "metadata": {},
   "outputs": [],
   "source": [
    "whole_adj_matr = make_adj_matrix(num_users, num_items, all_edges)\n",
    "train_adj_matr = make_adj_matrix(num_users, num_items, train)\n",
    "val_adj_matr = make_adj_matrix(num_users, num_items, val)"
   ]
  },
  {
   "cell_type": "code",
   "execution_count": 125,
   "id": "0ed85b06",
   "metadata": {},
   "outputs": [
    {
     "data": {
      "text/plain": [
       "torch.Size([1682])"
      ]
     },
     "execution_count": 125,
     "metadata": {},
     "output_type": "execute_result"
    }
   ],
   "source": [
    "train_adj_matr[0].sum(0).shape"
   ]
  },
  {
   "attachments": {},
   "cell_type": "markdown",
   "id": "1c2f128e",
   "metadata": {},
   "source": [
    "#### Implementation of the main algorithm"
   ]
  },
  {
   "cell_type": "code",
   "execution_count": 179,
   "id": "45923ec2",
   "metadata": {},
   "outputs": [],
   "source": [
    "class MessagePassing(torch.nn.Module):\n",
    "    def __init__(self, num_classes, embedding_dim, hidden_dim):\n",
    "        super(MessagePassing, self).__init__()\n",
    "        self.num_classes = num_classes\n",
    "        self.embedding_dim = embedding_dim\n",
    "        \n",
    "        # apply a linear layer for each type of rating before message passing (W_r)\n",
    "        self.rating_linear = torch.nn.Parameter(torch.Tensor(num_classes, embedding_dim, embedding_dim))\n",
    "        self.playlist_song_linear = torch.nn.Parameter(torch.Tensor(2, embedding_dim, hidden_dim))\n",
    "        torch.nn.init.normal_(self.rating_linear, std=0.1)\n",
    "        torch.nn.init.normal_(self.playlist_song_linear, std=0.1)\n",
    "        \n",
    "        self.relu = torch.nn.ReLU()\n",
    "    \n",
    "    def normalize(self, adj_matrix):\n",
    "        # apply symmetric normalization depending on the number of neighbors before message passing\n",
    "        # based on the implementation of graph convolutional networks\n",
    "        song_coeff = 1 / (adj_matrix.sum(dim=0) ** 0.5)\n",
    "        song_coeff[torch.isinf(song_coeff)] = 0.\n",
    "        song_coeff = song_coeff.reshape((1, -1)).expand(adj_matrix.shape[0], -1)\n",
    "        playlist_coeff = 1 / (adj_matrix.sum(dim=1) ** 0.5)\n",
    "        playlist_coeff[torch.isinf(playlist_coeff)] = 0.\n",
    "        playlist_coeff = playlist_coeff.reshape((-1, 1)).expand(-1, adj_matrix.shape[1])\n",
    "        \n",
    "        return adj_matrix * song_coeff\n",
    "    \n",
    "    def forward(self, playlist_embeddings, song_embeddings, playlists, songs, adj_matrices):\n",
    "        assert self.num_classes == adj_matrices.shape[0]\n",
    "        \n",
    "        all_playlist_embeddings = []\n",
    "        all_song_embeddings = []\n",
    "        for i in range(adj_matrices.shape[0]):\n",
    "            # perform message passing for each type of rating\n",
    "            adj_matrix = adj_matrices[i]\n",
    "            norm = self.normalize(adj_matrix)\n",
    "            playlist_norms = norm[playlists]\n",
    "            song_norms = norm.T[songs]\n",
    "            \n",
    "            # transform each node's embedding and add with normalized weights\n",
    "            new_playlist_embeddings = playlist_norms @ (song_embeddings @ self.rating_linear[i])\n",
    "            new_song_embeddings = song_norms @ (playlist_embeddings @ self.rating_linear[i])\n",
    "            \n",
    "            all_playlist_embeddings.append(new_playlist_embeddings)\n",
    "            all_song_embeddings.append(new_song_embeddings)\n",
    "        \n",
    "        # sum the embeddings for all classes\n",
    "        all_playlist_embeddings = torch.stack(all_playlist_embeddings, 0).sum(0)\n",
    "        all_song_embeddings = torch.stack(all_song_embeddings, 0).sum(0)\n",
    "        \n",
    "        # linear transformation of user and item embeddings respectively\n",
    "        all_playlist_embeddings = self.relu(all_playlist_embeddings @ self.playlist_song_linear[0])\n",
    "        all_song_embeddings = self.relu(all_song_embeddings @ self.playlist_song_linear[0])\n",
    "\n",
    "        return all_playlist_embeddings, all_song_embeddings\n",
    "\n",
    "\n",
    "class Decoder(torch.nn.Module):\n",
    "    def __init__(self, num_classes, embedding_dim):\n",
    "        super(Decoder, self).__init__()\n",
    "        self.embedding_dim = embedding_dim\n",
    "        self.num_classes = num_classes\n",
    "        \n",
    "        # bilinear transformation of user and item embeddings based on class\n",
    "        self.bilinear_operator = torch.nn.Parameter(torch.Tensor(self.num_classes,\n",
    "                                                                 self.embedding_dim,\n",
    "                                                                 self.embedding_dim))\n",
    "        torch.nn.init.normal_(self.bilinear_operator, std=0.1)\n",
    "        \n",
    "    def forward(self, playlist_features, song_features):\n",
    "        output = []\n",
    "        for i in range(self.num_classes):\n",
    "            output.append(playlist_features @ self.bilinear_operator[i] @ song_features.T)\n",
    "        return torch.stack(output, 0)\n",
    "\n",
    "    \n",
    "class GAE(torch.nn.Module):\n",
    "    def __init__(self, num_playlists, num_songs, num_classes,\n",
    "                 embedding_dim, hidden_dim, dropout=0.7):\n",
    "        super(GAE, self).__init__()\n",
    "        self.num_playlists = num_playlists\n",
    "        self.num_songs = num_songs\n",
    "        self.embedding_dim = embedding_dim\n",
    "        self.num_classes = num_classes\n",
    "        \n",
    "        # initial approximation of user and item node embeddings\n",
    "        self.playlist_embeddings = torch.nn.Parameter(torch.Tensor(self.num_playlists, self.embedding_dim))\n",
    "        self.song_embeddings = torch.nn.Parameter(torch.Tensor(self.num_songs, self.embedding_dim))\n",
    "        torch.nn.init.normal_(self.playlist_embeddings, std=0.1)\n",
    "        torch.nn.init.normal_(self.song_embeddings, std=0.1)\n",
    "        \n",
    "        # encoder and decoder\n",
    "        self.graph_conv = MessagePassing(num_classes, embedding_dim, hidden_dim)\n",
    "        self.decoder = Decoder(num_classes, hidden_dim)\n",
    "        self.softmax =  torch.nn.Softmax(dim=0)\n",
    "    \n",
    "    def forward(self, playlists, songs, adj_matrix):\n",
    "        playlist_embeddings, song_embeddings = self.graph_conv(self.playlist_embeddings, self.song_embeddings,\n",
    "                                                               playlists, songs, adj_matrix)\n",
    "        scores = self.decoder(playlist_embeddings, song_embeddings)\n",
    "        scores = self.softmax(scores)\n",
    "        return scores, self.ratings_from_scores(scores)\n",
    "    \n",
    "    def ratings_from_scores(self, scores):\n",
    "        ratings = torch.stack([(r+1)*rating_score \n",
    "                               for r, rating_score in enumerate(scores)], 0)\n",
    "        ratings = torch.sum(ratings, 0)\n",
    "        return ratings\n",
    "    \n",
    "    def predict(self, playlist, adj_matrix):\n",
    "        _, ratings = self.forward([playlist], range(self.num_songs), adj_matrix)\n",
    "        return ratings"
   ]
  },
  {
   "attachments": {},
   "cell_type": "markdown",
   "id": "f8545e97",
   "metadata": {},
   "source": [
    "#### Loss, metrics, training pipeline"
   ]
  },
  {
   "cell_type": "code",
   "execution_count": 236,
   "id": "324f2449",
   "metadata": {},
   "outputs": [],
   "source": [
    "def rmse(preds, target):\n",
    "    labels = torch.max(target, 0)[1].float() + 1.\n",
    "    \n",
    "    valid_edges = target.sum(dim=0)\n",
    "    nonzero = torch.nonzero(valid_edges)\n",
    "    \n",
    "    mse = (valid_edges * (labels - preds)**2).sum() / len(nonzero)\n",
    "    rmse = torch.sqrt(mse)\n",
    "    return rmse\n",
    "\n",
    "\n",
    "def loss(probs, target):\n",
    "    probs = probs.reshape(probs.shape[0], -1).T\n",
    "    target = target.reshape(target.shape[0], -1).T\n",
    "\n",
    "    valid_edges = target.sum(dim=1)\n",
    "    nonzero = len(torch.nonzero(valid_edges))\n",
    "    target = target.max(dim=1)[1]\n",
    "\n",
    "    loss = torch.nn.functional.cross_entropy(input=probs, target=target,\n",
    "                                             reduction='none')\n",
    "    loss = torch.sum(torch.mul(valid_edges, loss)) / nonzero\n",
    "    return loss\n",
    "\n",
    "\n",
    "def train(model, adj_matrix, num_playlists, num_songs, optim):\n",
    "    model.train()\n",
    "    optim.zero_grad()\n",
    "    probs, predictions = model(torch.tensor(range(num_playlists)),\n",
    "                               torch.tensor(range(num_songs)),\n",
    "                               adj_matrix.clone())\n",
    "    \n",
    "    curr_loss = loss(probs, adj_matrix.detach())\n",
    "    curr_rmse = rmse(predictions, adj_matrix)\n",
    "    curr_loss.backward()\n",
    "    optim.step()\n",
    "    return curr_loss, curr_rmse\n",
    "\n",
    "def evaluate(model, adj_matrix, num_playlists, num_songs):\n",
    "    model.eval()\n",
    "    u = torch.tensor(range(num_playlists))\n",
    "    v = torch.tensor(range(num_songs))\n",
    "    \n",
    "    probs, predictions = model(u, v, adj_matrix.clone())\n",
    "    return loss(probs, adj_matrix), rmse(predictions, adj_matrix)"
   ]
  },
  {
   "cell_type": "code",
   "execution_count": 237,
   "id": "4dd64d12",
   "metadata": {},
   "outputs": [],
   "source": [
    "def plot(train_losses, val_losses, train_rmses, val_rmses):\n",
    "    plt.figure(figsize=(8, 3))\n",
    "    plt.subplot(121)\n",
    "    plt.plot(train_losses, label='train')\n",
    "    plt.plot(val_losses, label='val')\n",
    "    plt.legend()\n",
    "    plt.title('Loss')\n",
    "    plt.subplot(122)\n",
    "    plt.plot(train_rmses, label='train')\n",
    "    plt.plot(val_rmses, label='val')\n",
    "    plt.legend()\n",
    "    plt.title('RMSE')\n",
    "    plt.show()\n",
    "\n",
    "def train_loop(num_users, num_items, train_adj_matr, val_adj_matr, num_epochs=100):\n",
    "    model = GAE(num_users, num_items, train_adj_matr.shape[0], 10, 10)\n",
    "    optim = torch.optim.Adam(model.parameters(), lr=1e-2)\n",
    "\n",
    "    train_losses = []\n",
    "    train_rmses = []\n",
    "    val_losses = []\n",
    "    val_rmses = []\n",
    "    for epoch in tqdm(range(num_epochs)):\n",
    "        train_loss, train_rmse = train(model, train_adj_matr,\n",
    "                                       num_users, num_items, optim)\n",
    "        val_loss, val_rmse = evaluate(model, val_adj_matr, num_users, num_items)\n",
    "        train_losses.append(train_loss.detach().numpy())\n",
    "        val_losses.append(val_loss.detach().numpy())\n",
    "        train_rmses.append(train_rmse.detach().numpy())\n",
    "        val_rmses.append(val_rmse.detach().numpy())\n",
    "        \n",
    "        if epoch > 0 and epoch % 10 == 0:\n",
    "            plot(train_losses, val_losses, train_rmses, val_rmses)\n",
    "            \n",
    "            display.clear_output(wait=True)\n",
    "    return train_losses, val_losses, train_rmses, val_rmses, model"
   ]
  },
  {
   "cell_type": "code",
   "execution_count": 175,
   "id": "83efe087",
   "metadata": {},
   "outputs": [
    {
     "data": {
      "image/png": "[encoded data removed]",
      "text/plain": [
       "<Figure size 800x300 with 2 Axes>"
      ]
     },
     "metadata": {},
     "output_type": "display_data"
    }
   ],
   "source": [
    "train_losses, val_losses, train_rmses, val_rmses, model = train_loop(num_users, num_items,\n",
    "                                                              train_adj_matr, val_adj_matr,\n",
    "                                                              num_epochs=61)\n",
    "plot(train_losses, val_losses, train_rmses, val_rmses)"
   ]
  },
  {
   "cell_type": "code",
   "execution_count": 176,
   "id": "321d100b",
   "metadata": {},
   "outputs": [
    {
     "name": "stdout",
     "output_type": "stream",
     "text": [
      "Best val RMSE: 0.9726685285568237\n"
     ]
    }
   ],
   "source": [
    "print(f'Best val RMSE: {min(val_rmses)}')"
   ]
  },
  {
   "attachments": {},
   "cell_type": "markdown",
   "id": "1202eb58",
   "metadata": {},
   "source": [
    "Achieved an RMSE of ~0.973 without using additional features and dropout, as used in the paper. This already outperforms some of the baselines compared in the paper.\n",
    "Paper's Result: RMSE ~0.91\n",
    "\n",
    "#### Let's attempt to recommend movies to users.\n",
    "\n",
    "To do this, we'll take the adjacency matrix of the entire graph, feed it into GC-MC, and output the predicted scores for those values that were originally zeros in the matrix."
   ]
  },
  {
   "cell_type": "code",
   "execution_count": 189,
   "id": "b3b68641",
   "metadata": {},
   "outputs": [],
   "source": [
    "def get_top_films(model, user, adj_matr, film_list, top=10): \n",
    "    # obtain predictions\n",
    "    recommendations = model.predict(user, adj_matr)\n",
    "    # obtain ratings from the adjacency matrix\n",
    "    known_ratings = model.ratings_from_scores(adj_matr)[user]\n",
    "    \n",
    "    # zero out scores of films that are already rated to recommend new ones\n",
    "    recommendations[0, adj_matr[:, user, :].sum(0).bool()] = 0\n",
    "    \n",
    "    top_rec = recommendations[0].argsort(descending=True).detach().cpu().numpy()\n",
    "    top_ratings = known_ratings.argsort(descending=True).detach().cpu().numpy()\n",
    "    \n",
    "    res = pd.DataFrame({'top_ratings': film_list[top_ratings].tolist(),\n",
    "                        'top_recommendations': film_list[top_rec].tolist()})\n",
    "    return res"
   ]
  },
  {
   "cell_type": "code",
   "execution_count": 192,
   "id": "55f6e297",
   "metadata": {},
   "outputs": [
    {
     "data": {
      "text/html": [
       "<div>\n",
       "<style scoped>\n",
       "    .dataframe tbody tr th:only-of-type {\n",
       "        vertical-align: middle;\n",
       "    }\n",
       "\n",
       "    .dataframe tbody tr th {\n",
       "        vertical-align: top;\n",
       "    }\n",
       "\n",
       "    .dataframe thead th {\n",
       "        text-align: right;\n",
       "    }\n",
       "</style>\n",
       "<table border=\"1\" class=\"dataframe\">\n",
       "  <thead>\n",
       "    <tr style=\"text-align: right;\">\n",
       "      <th></th>\n",
       "      <th>top_ratings</th>\n",
       "      <th>top_recommendations</th>\n",
       "    </tr>\n",
       "  </thead>\n",
       "  <tbody>\n",
       "    <tr>\n",
       "      <th>0</th>\n",
       "      <td>Lost Highway (1997)</td>\n",
       "      <td>Empire Strikes Back, The (1980)</td>\n",
       "    </tr>\n",
       "    <tr>\n",
       "      <th>1</th>\n",
       "      <td>Star Wars (1977)</td>\n",
       "      <td>Fargo (1996)</td>\n",
       "    </tr>\n",
       "    <tr>\n",
       "      <th>2</th>\n",
       "      <td>Liar Liar (1997)</td>\n",
       "      <td>Silence of the Lambs, The (1991)</td>\n",
       "    </tr>\n",
       "    <tr>\n",
       "      <th>3</th>\n",
       "      <td>Blues Brothers 2000 (1998)</td>\n",
       "      <td>Return of the Jedi (1983)</td>\n",
       "    </tr>\n",
       "    <tr>\n",
       "      <th>4</th>\n",
       "      <td>Incognito (1997)</td>\n",
       "      <td>Titanic (1997)</td>\n",
       "    </tr>\n",
       "    <tr>\n",
       "      <th>5</th>\n",
       "      <td>Contact (1997)</td>\n",
       "      <td>Godfather, The (1972)</td>\n",
       "    </tr>\n",
       "    <tr>\n",
       "      <th>6</th>\n",
       "      <td>Wonderland (1997)</td>\n",
       "      <td>Raiders of the Lost Ark (1981)</td>\n",
       "    </tr>\n",
       "    <tr>\n",
       "      <th>7</th>\n",
       "      <td>Assignment, The (1997)</td>\n",
       "      <td>English Patient, The (1996)</td>\n",
       "    </tr>\n",
       "    <tr>\n",
       "      <th>8</th>\n",
       "      <td>Wedding Singer, The (1998)</td>\n",
       "      <td>Full Monty, The (1997)</td>\n",
       "    </tr>\n",
       "    <tr>\n",
       "      <th>9</th>\n",
       "      <td>Air Force One (1997)</td>\n",
       "      <td>Good Will Hunting (1997)</td>\n",
       "    </tr>\n",
       "  </tbody>\n",
       "</table>\n",
       "</div>"
      ],
      "text/plain": [
       "                  top_ratings               top_recommendations\n",
       "0         Lost Highway (1997)   Empire Strikes Back, The (1980)\n",
       "1            Star Wars (1977)                      Fargo (1996)\n",
       "2            Liar Liar (1997)  Silence of the Lambs, The (1991)\n",
       "3  Blues Brothers 2000 (1998)         Return of the Jedi (1983)\n",
       "4            Incognito (1997)                    Titanic (1997)\n",
       "5              Contact (1997)             Godfather, The (1972)\n",
       "6           Wonderland (1997)    Raiders of the Lost Ark (1981)\n",
       "7      Assignment, The (1997)       English Patient, The (1996)\n",
       "8  Wedding Singer, The (1998)            Full Monty, The (1997)\n",
       "9        Air Force One (1997)          Good Will Hunting (1997)"
      ]
     },
     "execution_count": 192,
     "metadata": {},
     "output_type": "execute_result"
    }
   ],
   "source": [
    "res = get_top_films(model, 3, whole_adj_matr, movie_name_list)\n",
    "res.head(10)"
   ]
  },
  {
   "attachments": {},
   "cell_type": "markdown",
   "id": "b8eecc1e",
   "metadata": {},
   "source": [
    "We can see that, firstly, among the recommendations, there are many popular movies. Secondly, for instance, we can notice that the user liked Star Wars, and the model recommended two more Star Wars movies."
   ]
  },
  {
   "attachments": {},
   "cell_type": "markdown",
   "id": "654ebfaf",
   "metadata": {},
   "source": [
    "#### Let's now experiment with a music recommendation."
   ]
  },
  {
   "cell_type": "code",
   "execution_count": 193,
   "id": "cc0a9246",
   "metadata": {},
   "outputs": [],
   "source": [
    "# from https://github.com/fmonti/mgcnn\n",
    "def load_matlab_file(path_file, name_field):\n",
    "    \"\"\"\n",
    "    load '.mat' files\n",
    "    inputs:\n",
    "        path_file, string containing the file path\n",
    "        name_field, string containig the field name (default='shape')\n",
    "    warning:\n",
    "        '.mat' files should be saved in the '-v7.3' format\n",
    "    \"\"\"\n",
    "    db = h5py.File(path_file, 'r')\n",
    "    ds = db[name_field]\n",
    "    print(ds)\n",
    "    try:\n",
    "        if 'ir' in ds.keys():\n",
    "            data = np.asarray(ds['data'])\n",
    "            ir   = np.asarray(ds['ir'])\n",
    "            jc   = np.asarray(ds['jc'])\n",
    "            out  = sp.csc_matrix((data, ir, jc)).astype(np.float32)\n",
    "    except AttributeError:\n",
    "        # Transpose in case is a dense matrix because of the row- vs column- major ordering between python and matlab\n",
    "        out = np.asarray(ds).astype(np.float32).T\n",
    "\n",
    "    db.close()\n",
    "\n",
    "    return out"
   ]
  },
  {
   "attachments": {},
   "cell_type": "markdown",
   "id": "2205cbd7",
   "metadata": {},
   "source": [
    "Loading the data commonly used in the literature. They are already divided into train and test sets."
   ]
  },
  {
   "cell_type": "code",
   "execution_count": 201,
   "id": "c4719c2c",
   "metadata": {},
   "outputs": [
    {
     "name": "stdout",
     "output_type": "stream",
     "text": [
      "<HDF5 dataset \"M\": shape (3000, 3000), type \"<f8\">\n",
      "<HDF5 dataset \"Otraining\": shape (3000, 3000), type \"<f8\">\n",
      "<HDF5 dataset \"Otest\": shape (3000, 3000), type \"<f8\">\n",
      "<HDF5 dataset \"W_tracks\": shape (3000, 3000), type \"<f8\">\n"
     ]
    }
   ],
   "source": [
    "path_dataset = './yahoo_music/training_test_dataset_10_NNs.mat'\n",
    "# ratings\n",
    "all_ratings = load_matlab_file(path_dataset, 'M')\n",
    "# edges for train\n",
    "train_edges = load_matlab_file(path_dataset, 'Otraining')\n",
    "# edges for test\n",
    "test_edges = load_matlab_file(path_dataset, 'Otest')"
   ]
  },
  {
   "cell_type": "code",
   "execution_count": 195,
   "id": "3f4de97b",
   "metadata": {},
   "outputs": [
    {
     "name": "stdout",
     "output_type": "stream",
     "text": [
      "Unique ratings: [  0.   1.   4.   6.  10.  11.  13.  16.  17.  19.  20.  23.  25.  28.\n",
      "  30.  31.  32.  34.  36.  39.  40.  41.  42.  43.  44.  47.  49.  50.\n",
      "  52.  53.  54.  58.  59.  60.  61.  63.  64.  65.  66.  67.  68.  69.\n",
      "  70.  71.  72.  73.  74.  75.  76.  77.  78.  79.  80.  81.  82.  83.\n",
      "  84.  85.  86.  87.  88.  89.  90.  91.  92.  93.  94.  95.  96.  98.\n",
      "  99. 100.]\n",
      "Num of unique ratings: 72\n"
     ]
    }
   ],
   "source": [
    "print(f'Unique ratings: {np.unique(all_ratings)}')\n",
    "print(f'Num of unique ratings: {len(np.unique(all_ratings))}')"
   ]
  },
  {
   "attachments": {},
   "cell_type": "markdown",
   "id": "ea110f04",
   "metadata": {},
   "source": [
    "\n",
    "We can see that there are 72 unique types of ratings in the data. The minimum rating is 1, the maximum is 100."
   ]
  },
  {
   "cell_type": "code",
   "execution_count": 239,
   "id": "357ca329",
   "metadata": {},
   "outputs": [],
   "source": [
    "train_ratings = torch.tensor(all_ratings * train_edges)\n",
    "test_ratings = torch.tensor(all_ratings * test_edges)"
   ]
  },
  {
   "cell_type": "code",
   "execution_count": 241,
   "id": "3c4db396",
   "metadata": {},
   "outputs": [],
   "source": [
    "def make_one_hot(rating_matrix, num_ratings):\n",
    "    one_hot = torch.zeros((num_ratings, rating_matrix.shape[0], rating_matrix.shape[1]))\n",
    "    for rating in range(1, num_ratings+1):\n",
    "        one_hot[rating-1][rating_matrix == rating] = 1\n",
    "    return one_hot\n",
    "\n",
    "all_adj_music = make_one_hot(all_ratings, 100)\n",
    "train_adj_music = make_one_hot(train_ratings, 100)\n",
    "test_adj_music = make_one_hot(test_ratings, 100)"
   ]
  },
  {
   "cell_type": "code",
   "execution_count": 242,
   "id": "f345ecf9",
   "metadata": {},
   "outputs": [
    {
     "data": {
      "image/png": "[encoded data removed]",
      "text/plain": [
       "<Figure size 800x300 with 2 Axes>"
      ]
     },
     "metadata": {},
     "output_type": "display_data"
    }
   ],
   "source": [
    "train_losses, val_losses, train_rmses, val_rmses, model = train_loop(train_ratings.shape[0], \n",
    "                                                              train_ratings.shape[1],\n",
    "                                                              train_adj_music,\n",
    "                                                              test_adj_music,\n",
    "                                                              num_epochs=61)\n",
    "plot(train_losses, val_losses, train_rmses, val_rmses)"
   ]
  },
  {
   "cell_type": "code",
   "execution_count": 243,
   "id": "fbd51b44",
   "metadata": {},
   "outputs": [
    {
     "name": "stdout",
     "output_type": "stream",
     "text": [
      "Best val RMSE: 20.439830780029297\n"
     ]
    }
   ],
   "source": [
    "print(f'Best val RMSE: {min(val_rmses)}')"
   ]
  },
  {
   "attachments": {},
   "cell_type": "markdown",
   "id": "8c404f67",
   "metadata": {},
   "source": [
    "The same dataset and the same train-test split as in the paper were used here.\n",
    "Paper's RMSE: 20.5."
   ]
  },
  {
   "attachments": {},
   "cell_type": "markdown",
   "id": "5353b1fa",
   "metadata": {},
   "source": [
    "However, I didn't obtain access to the entire YahooMusic dataset with indices mapping to song descriptions."
   ]
  },
  {
   "cell_type": "code",
   "execution_count": null,
   "id": "8696c82d",
   "metadata": {},
   "outputs": [],
   "source": []
  }
 ],
 "metadata": {
  "kernelspec": {
   "display_name": "Python 3.8.7 64-bit",
   "language": "python",
   "name": "python3"
  },
  "language_info": {
   "codemirror_mode": {
    "name": "ipython",
    "version": 3
   },
   "file_extension": ".py",
   "mimetype": "text/x-python",
   "name": "python",
   "nbconvert_exporter": "python",
   "pygments_lexer": "ipython3",
   "version": "3.8.7"
  },
  "vscode": {
   "interpreter": {
    "hash": "aee8b7b246df8f9039afb4144a1f6fd8d2ca17a180786b69acc140d282b71a49"
   }
  }
 },
 "nbformat": 4,
 "nbformat_minor": 5
}
